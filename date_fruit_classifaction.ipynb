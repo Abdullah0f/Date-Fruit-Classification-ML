{
 "cells": [
  {
   "attachments": {},
   "cell_type": "markdown",
   "metadata": {},
   "source": [
    "# Date Fruit Classification\n",
    "In this notebook, we are going to classify date fruits using several machine learning algorithms. The steps we are going to follow are:\n",
    "\n",
    "- Import the necessary libraries\n",
    "- Load and explore the dataset\n",
    "- Preprocess the data\n",
    "- Visualize the data\n",
    "- Split the dataset into training and testing sets\n",
    "- Train several models and evaluate their performances\n",
    "- Determine the most important features\n",
    "- Summarize the results\n"
   ]
  },
  {
   "cell_type": "code",
   "execution_count": 11,
   "metadata": {},
   "outputs": [],
   "source": [
    "#Imports\n",
    "#Below are all the imports used in the notebook.\n",
    "# Common\n",
    "import numpy as np \n",
    "import pandas as pd\n",
    "\n",
    "# Data Visualization\n",
    "import seaborn as sns\n",
    "import matplotlib.pyplot as plt\n",
    "\n",
    "# Data Processing \n",
    "from sklearn.preprocessing import LabelEncoder, MinMaxScaler\n",
    "from sklearn.model_selection import train_test_split\n",
    "\n",
    "# ML Models\n",
    "from sklearn.svm import SVC\n",
    "from sklearn.tree import DecisionTreeClassifier\n",
    "from sklearn.linear_model import LogisticRegression\n",
    "# from keras.models import Sequential\n",
    "from keras.layers import Dense\n",
    "\n",
    "# Performace Measures\n",
    "from sklearn.metrics import classification_report, confusion_matrix"
   ]
  },
  {
   "attachments": {},
   "cell_type": "markdown",
   "metadata": {},
   "source": [
    "# Data Loading\n",
    "We start by loading the data from an excel file using pandas. The data contains information about different classes of date fruits.\n"
   ]
  },
  {
   "cell_type": "code",
   "execution_count": null,
   "metadata": {},
   "outputs": [
    {
     "data": {
      "text/html": [
       "<div>\n",
       "<style scoped>\n",
       "    .dataframe tbody tr th:only-of-type {\n",
       "        vertical-align: middle;\n",
       "    }\n",
       "\n",
       "    .dataframe tbody tr th {\n",
       "        vertical-align: top;\n",
       "    }\n",
       "\n",
       "    .dataframe thead th {\n",
       "        text-align: right;\n",
       "    }\n",
       "</style>\n",
       "<table border=\"1\" class=\"dataframe\">\n",
       "  <thead>\n",
       "    <tr style=\"text-align: right;\">\n",
       "      <th></th>\n",
       "      <th>AREA</th>\n",
       "      <th>PERIMETER</th>\n",
       "      <th>MAJOR_AXIS</th>\n",
       "      <th>MINOR_AXIS</th>\n",
       "      <th>ECCENTRICITY</th>\n",
       "      <th>EQDIASQ</th>\n",
       "      <th>SOLIDITY</th>\n",
       "      <th>CONVEX_AREA</th>\n",
       "      <th>EXTENT</th>\n",
       "      <th>ASPECT_RATIO</th>\n",
       "      <th>...</th>\n",
       "      <th>KurtosisRR</th>\n",
       "      <th>KurtosisRG</th>\n",
       "      <th>KurtosisRB</th>\n",
       "      <th>EntropyRR</th>\n",
       "      <th>EntropyRG</th>\n",
       "      <th>EntropyRB</th>\n",
       "      <th>ALLdaub4RR</th>\n",
       "      <th>ALLdaub4RG</th>\n",
       "      <th>ALLdaub4RB</th>\n",
       "      <th>Class</th>\n",
       "    </tr>\n",
       "  </thead>\n",
       "  <tbody>\n",
       "    <tr>\n",
       "      <th>0</th>\n",
       "      <td>422163</td>\n",
       "      <td>2378.908</td>\n",
       "      <td>837.8484</td>\n",
       "      <td>645.6693</td>\n",
       "      <td>0.6373</td>\n",
       "      <td>733.1539</td>\n",
       "      <td>0.9947</td>\n",
       "      <td>424428</td>\n",
       "      <td>0.7831</td>\n",
       "      <td>1.2976</td>\n",
       "      <td>...</td>\n",
       "      <td>3.2370</td>\n",
       "      <td>2.9574</td>\n",
       "      <td>4.2287</td>\n",
       "      <td>-59191263232</td>\n",
       "      <td>-50714214400</td>\n",
       "      <td>-39922372608</td>\n",
       "      <td>58.7255</td>\n",
       "      <td>54.9554</td>\n",
       "      <td>47.8400</td>\n",
       "      <td>BERHI</td>\n",
       "    </tr>\n",
       "    <tr>\n",
       "      <th>1</th>\n",
       "      <td>338136</td>\n",
       "      <td>2085.144</td>\n",
       "      <td>723.8198</td>\n",
       "      <td>595.2073</td>\n",
       "      <td>0.5690</td>\n",
       "      <td>656.1464</td>\n",
       "      <td>0.9974</td>\n",
       "      <td>339014</td>\n",
       "      <td>0.7795</td>\n",
       "      <td>1.2161</td>\n",
       "      <td>...</td>\n",
       "      <td>2.6228</td>\n",
       "      <td>2.6350</td>\n",
       "      <td>3.1704</td>\n",
       "      <td>-34233065472</td>\n",
       "      <td>-37462601728</td>\n",
       "      <td>-31477794816</td>\n",
       "      <td>50.0259</td>\n",
       "      <td>52.8168</td>\n",
       "      <td>47.8315</td>\n",
       "      <td>BERHI</td>\n",
       "    </tr>\n",
       "    <tr>\n",
       "      <th>2</th>\n",
       "      <td>526843</td>\n",
       "      <td>2647.394</td>\n",
       "      <td>940.7379</td>\n",
       "      <td>715.3638</td>\n",
       "      <td>0.6494</td>\n",
       "      <td>819.0222</td>\n",
       "      <td>0.9962</td>\n",
       "      <td>528876</td>\n",
       "      <td>0.7657</td>\n",
       "      <td>1.3150</td>\n",
       "      <td>...</td>\n",
       "      <td>3.7516</td>\n",
       "      <td>3.8611</td>\n",
       "      <td>4.7192</td>\n",
       "      <td>-93948354560</td>\n",
       "      <td>-74738221056</td>\n",
       "      <td>-60311207936</td>\n",
       "      <td>65.4772</td>\n",
       "      <td>59.2860</td>\n",
       "      <td>51.9378</td>\n",
       "      <td>BERHI</td>\n",
       "    </tr>\n",
       "    <tr>\n",
       "      <th>3</th>\n",
       "      <td>416063</td>\n",
       "      <td>2351.210</td>\n",
       "      <td>827.9804</td>\n",
       "      <td>645.2988</td>\n",
       "      <td>0.6266</td>\n",
       "      <td>727.8378</td>\n",
       "      <td>0.9948</td>\n",
       "      <td>418255</td>\n",
       "      <td>0.7759</td>\n",
       "      <td>1.2831</td>\n",
       "      <td>...</td>\n",
       "      <td>5.0401</td>\n",
       "      <td>8.6136</td>\n",
       "      <td>8.2618</td>\n",
       "      <td>-32074307584</td>\n",
       "      <td>-32060925952</td>\n",
       "      <td>-29575010304</td>\n",
       "      <td>43.3900</td>\n",
       "      <td>44.1259</td>\n",
       "      <td>41.1882</td>\n",
       "      <td>BERHI</td>\n",
       "    </tr>\n",
       "    <tr>\n",
       "      <th>4</th>\n",
       "      <td>347562</td>\n",
       "      <td>2160.354</td>\n",
       "      <td>763.9877</td>\n",
       "      <td>582.8359</td>\n",
       "      <td>0.6465</td>\n",
       "      <td>665.2291</td>\n",
       "      <td>0.9908</td>\n",
       "      <td>350797</td>\n",
       "      <td>0.7569</td>\n",
       "      <td>1.3108</td>\n",
       "      <td>...</td>\n",
       "      <td>2.7016</td>\n",
       "      <td>2.9761</td>\n",
       "      <td>4.4146</td>\n",
       "      <td>-39980974080</td>\n",
       "      <td>-35980042240</td>\n",
       "      <td>-25593278464</td>\n",
       "      <td>52.7743</td>\n",
       "      <td>50.9080</td>\n",
       "      <td>42.6666</td>\n",
       "      <td>BERHI</td>\n",
       "    </tr>\n",
       "  </tbody>\n",
       "</table>\n",
       "<p>5 rows × 35 columns</p>\n",
       "</div>"
      ],
      "text/plain": [
       "     AREA  PERIMETER  MAJOR_AXIS  MINOR_AXIS  ECCENTRICITY   EQDIASQ   \n",
       "0  422163   2378.908    837.8484    645.6693        0.6373  733.1539  \\\n",
       "1  338136   2085.144    723.8198    595.2073        0.5690  656.1464   \n",
       "2  526843   2647.394    940.7379    715.3638        0.6494  819.0222   \n",
       "3  416063   2351.210    827.9804    645.2988        0.6266  727.8378   \n",
       "4  347562   2160.354    763.9877    582.8359        0.6465  665.2291   \n",
       "\n",
       "   SOLIDITY  CONVEX_AREA  EXTENT  ASPECT_RATIO  ...  KurtosisRR  KurtosisRG   \n",
       "0    0.9947       424428  0.7831        1.2976  ...      3.2370      2.9574  \\\n",
       "1    0.9974       339014  0.7795        1.2161  ...      2.6228      2.6350   \n",
       "2    0.9962       528876  0.7657        1.3150  ...      3.7516      3.8611   \n",
       "3    0.9948       418255  0.7759        1.2831  ...      5.0401      8.6136   \n",
       "4    0.9908       350797  0.7569        1.3108  ...      2.7016      2.9761   \n",
       "\n",
       "   KurtosisRB    EntropyRR    EntropyRG    EntropyRB  ALLdaub4RR  ALLdaub4RG   \n",
       "0      4.2287 -59191263232 -50714214400 -39922372608     58.7255     54.9554  \\\n",
       "1      3.1704 -34233065472 -37462601728 -31477794816     50.0259     52.8168   \n",
       "2      4.7192 -93948354560 -74738221056 -60311207936     65.4772     59.2860   \n",
       "3      8.2618 -32074307584 -32060925952 -29575010304     43.3900     44.1259   \n",
       "4      4.4146 -39980974080 -35980042240 -25593278464     52.7743     50.9080   \n",
       "\n",
       "   ALLdaub4RB  Class  \n",
       "0     47.8400  BERHI  \n",
       "1     47.8315  BERHI  \n",
       "2     51.9378  BERHI  \n",
       "3     41.1882  BERHI  \n",
       "4     42.6666  BERHI  \n",
       "\n",
       "[5 rows x 35 columns]"
      ]
     },
     "execution_count": 7,
     "metadata": {},
     "output_type": "execute_result"
    }
   ],
   "source": [
    "#Data\n",
    "#To solve a problem we need to have a look at the problem first.\n",
    "# File Path \n",
    "file_path = './data/Date_Fruit_Datasets.xlsx'\n",
    "\n",
    "# Load data \n",
    "df = pd.read_excel(file_path)\n",
    "df.head()"
   ]
  },
  {
   "attachments": {},
   "cell_type": "markdown",
   "metadata": {},
   "source": [
    "# Information about the dataset\n"
   ]
  },
  {
   "cell_type": "code",
   "execution_count": null,
   "metadata": {},
   "outputs": [
    {
     "data": {
      "text/html": [
       "<div>\n",
       "<style scoped>\n",
       "    .dataframe tbody tr th:only-of-type {\n",
       "        vertical-align: middle;\n",
       "    }\n",
       "\n",
       "    .dataframe tbody tr th {\n",
       "        vertical-align: top;\n",
       "    }\n",
       "\n",
       "    .dataframe thead th {\n",
       "        text-align: right;\n",
       "    }\n",
       "</style>\n",
       "<table border=\"1\" class=\"dataframe\">\n",
       "  <thead>\n",
       "    <tr style=\"text-align: right;\">\n",
       "      <th></th>\n",
       "      <th>AREA</th>\n",
       "      <th>PERIMETER</th>\n",
       "      <th>MAJOR_AXIS</th>\n",
       "      <th>MINOR_AXIS</th>\n",
       "      <th>ECCENTRICITY</th>\n",
       "      <th>EQDIASQ</th>\n",
       "      <th>SOLIDITY</th>\n",
       "      <th>CONVEX_AREA</th>\n",
       "      <th>EXTENT</th>\n",
       "      <th>ASPECT_RATIO</th>\n",
       "      <th>...</th>\n",
       "      <th>SkewRB</th>\n",
       "      <th>KurtosisRR</th>\n",
       "      <th>KurtosisRG</th>\n",
       "      <th>KurtosisRB</th>\n",
       "      <th>EntropyRR</th>\n",
       "      <th>EntropyRG</th>\n",
       "      <th>EntropyRB</th>\n",
       "      <th>ALLdaub4RR</th>\n",
       "      <th>ALLdaub4RG</th>\n",
       "      <th>ALLdaub4RB</th>\n",
       "    </tr>\n",
       "  </thead>\n",
       "  <tbody>\n",
       "    <tr>\n",
       "      <th>count</th>\n",
       "      <td>898.000000</td>\n",
       "      <td>898.000000</td>\n",
       "      <td>898.000000</td>\n",
       "      <td>898.000000</td>\n",
       "      <td>898.000000</td>\n",
       "      <td>898.000000</td>\n",
       "      <td>898.000000</td>\n",
       "      <td>898.000000</td>\n",
       "      <td>898.000000</td>\n",
       "      <td>898.000000</td>\n",
       "      <td>...</td>\n",
       "      <td>898.000000</td>\n",
       "      <td>898.000000</td>\n",
       "      <td>898.000000</td>\n",
       "      <td>898.000000</td>\n",
       "      <td>8.980000e+02</td>\n",
       "      <td>8.980000e+02</td>\n",
       "      <td>8.980000e+02</td>\n",
       "      <td>898.000000</td>\n",
       "      <td>898.000000</td>\n",
       "      <td>898.000000</td>\n",
       "    </tr>\n",
       "    <tr>\n",
       "      <th>mean</th>\n",
       "      <td>298295.207127</td>\n",
       "      <td>2057.660953</td>\n",
       "      <td>750.811994</td>\n",
       "      <td>495.872785</td>\n",
       "      <td>0.737468</td>\n",
       "      <td>604.577938</td>\n",
       "      <td>0.981840</td>\n",
       "      <td>303845.592428</td>\n",
       "      <td>0.736267</td>\n",
       "      <td>2.131102</td>\n",
       "      <td>...</td>\n",
       "      <td>0.250518</td>\n",
       "      <td>4.247845</td>\n",
       "      <td>5.110894</td>\n",
       "      <td>3.780928</td>\n",
       "      <td>-3.185021e+10</td>\n",
       "      <td>-2.901860e+10</td>\n",
       "      <td>-2.771876e+10</td>\n",
       "      <td>50.082888</td>\n",
       "      <td>48.805681</td>\n",
       "      <td>48.098393</td>\n",
       "    </tr>\n",
       "    <tr>\n",
       "      <th>std</th>\n",
       "      <td>107245.205337</td>\n",
       "      <td>410.012459</td>\n",
       "      <td>144.059326</td>\n",
       "      <td>114.268917</td>\n",
       "      <td>0.088727</td>\n",
       "      <td>119.593888</td>\n",
       "      <td>0.018157</td>\n",
       "      <td>108815.656947</td>\n",
       "      <td>0.053745</td>\n",
       "      <td>17.820778</td>\n",
       "      <td>...</td>\n",
       "      <td>0.632918</td>\n",
       "      <td>2.892357</td>\n",
       "      <td>3.745463</td>\n",
       "      <td>2.049831</td>\n",
       "      <td>2.037241e+10</td>\n",
       "      <td>1.712952e+10</td>\n",
       "      <td>1.484137e+10</td>\n",
       "      <td>16.063125</td>\n",
       "      <td>14.125911</td>\n",
       "      <td>10.813862</td>\n",
       "    </tr>\n",
       "    <tr>\n",
       "      <th>min</th>\n",
       "      <td>1987.000000</td>\n",
       "      <td>911.828000</td>\n",
       "      <td>336.722700</td>\n",
       "      <td>2.283200</td>\n",
       "      <td>0.344800</td>\n",
       "      <td>50.298400</td>\n",
       "      <td>0.836600</td>\n",
       "      <td>2257.000000</td>\n",
       "      <td>0.512300</td>\n",
       "      <td>1.065300</td>\n",
       "      <td>...</td>\n",
       "      <td>-1.029100</td>\n",
       "      <td>1.708200</td>\n",
       "      <td>1.607600</td>\n",
       "      <td>1.767200</td>\n",
       "      <td>-1.091224e+11</td>\n",
       "      <td>-9.261697e+10</td>\n",
       "      <td>-8.747177e+10</td>\n",
       "      <td>15.191100</td>\n",
       "      <td>20.524700</td>\n",
       "      <td>22.130000</td>\n",
       "    </tr>\n",
       "    <tr>\n",
       "      <th>25%</th>\n",
       "      <td>206948.000000</td>\n",
       "      <td>1726.091500</td>\n",
       "      <td>641.068650</td>\n",
       "      <td>404.684375</td>\n",
       "      <td>0.685625</td>\n",
       "      <td>513.317075</td>\n",
       "      <td>0.978825</td>\n",
       "      <td>210022.750000</td>\n",
       "      <td>0.705875</td>\n",
       "      <td>1.373725</td>\n",
       "      <td>...</td>\n",
       "      <td>-0.196950</td>\n",
       "      <td>2.536625</td>\n",
       "      <td>2.508850</td>\n",
       "      <td>2.577275</td>\n",
       "      <td>-4.429444e+10</td>\n",
       "      <td>-3.894638e+10</td>\n",
       "      <td>-3.564534e+10</td>\n",
       "      <td>38.224425</td>\n",
       "      <td>38.654525</td>\n",
       "      <td>39.250725</td>\n",
       "    </tr>\n",
       "    <tr>\n",
       "      <th>50%</th>\n",
       "      <td>319833.000000</td>\n",
       "      <td>2196.345450</td>\n",
       "      <td>791.363400</td>\n",
       "      <td>495.054850</td>\n",
       "      <td>0.754700</td>\n",
       "      <td>638.140950</td>\n",
       "      <td>0.987300</td>\n",
       "      <td>327207.000000</td>\n",
       "      <td>0.746950</td>\n",
       "      <td>1.524150</td>\n",
       "      <td>...</td>\n",
       "      <td>0.135550</td>\n",
       "      <td>3.069800</td>\n",
       "      <td>3.127800</td>\n",
       "      <td>3.080700</td>\n",
       "      <td>-2.826156e+10</td>\n",
       "      <td>-2.620990e+10</td>\n",
       "      <td>-2.392928e+10</td>\n",
       "      <td>53.841300</td>\n",
       "      <td>50.337800</td>\n",
       "      <td>49.614100</td>\n",
       "    </tr>\n",
       "    <tr>\n",
       "      <th>75%</th>\n",
       "      <td>382573.000000</td>\n",
       "      <td>2389.716575</td>\n",
       "      <td>858.633750</td>\n",
       "      <td>589.031700</td>\n",
       "      <td>0.802150</td>\n",
       "      <td>697.930525</td>\n",
       "      <td>0.991800</td>\n",
       "      <td>388804.000000</td>\n",
       "      <td>0.775850</td>\n",
       "      <td>1.674750</td>\n",
       "      <td>...</td>\n",
       "      <td>0.593950</td>\n",
       "      <td>4.449850</td>\n",
       "      <td>7.320400</td>\n",
       "      <td>4.283125</td>\n",
       "      <td>-1.460482e+10</td>\n",
       "      <td>-1.433105e+10</td>\n",
       "      <td>-1.660367e+10</td>\n",
       "      <td>63.063350</td>\n",
       "      <td>59.573600</td>\n",
       "      <td>56.666675</td>\n",
       "    </tr>\n",
       "    <tr>\n",
       "      <th>max</th>\n",
       "      <td>546063.000000</td>\n",
       "      <td>2811.997100</td>\n",
       "      <td>1222.723000</td>\n",
       "      <td>766.453600</td>\n",
       "      <td>1.000000</td>\n",
       "      <td>833.827900</td>\n",
       "      <td>0.997400</td>\n",
       "      <td>552598.000000</td>\n",
       "      <td>0.856200</td>\n",
       "      <td>535.525700</td>\n",
       "      <td>...</td>\n",
       "      <td>3.092300</td>\n",
       "      <td>26.171100</td>\n",
       "      <td>26.736700</td>\n",
       "      <td>32.249500</td>\n",
       "      <td>-1.627316e+08</td>\n",
       "      <td>-5.627727e+08</td>\n",
       "      <td>-4.370435e+08</td>\n",
       "      <td>79.828900</td>\n",
       "      <td>83.064900</td>\n",
       "      <td>74.104600</td>\n",
       "    </tr>\n",
       "  </tbody>\n",
       "</table>\n",
       "<p>8 rows × 34 columns</p>\n",
       "</div>"
      ],
      "text/plain": [
       "                AREA    PERIMETER   MAJOR_AXIS  MINOR_AXIS  ECCENTRICITY   \n",
       "count     898.000000   898.000000   898.000000  898.000000    898.000000  \\\n",
       "mean   298295.207127  2057.660953   750.811994  495.872785      0.737468   \n",
       "std    107245.205337   410.012459   144.059326  114.268917      0.088727   \n",
       "min      1987.000000   911.828000   336.722700    2.283200      0.344800   \n",
       "25%    206948.000000  1726.091500   641.068650  404.684375      0.685625   \n",
       "50%    319833.000000  2196.345450   791.363400  495.054850      0.754700   \n",
       "75%    382573.000000  2389.716575   858.633750  589.031700      0.802150   \n",
       "max    546063.000000  2811.997100  1222.723000  766.453600      1.000000   \n",
       "\n",
       "          EQDIASQ    SOLIDITY    CONVEX_AREA      EXTENT  ASPECT_RATIO  ...   \n",
       "count  898.000000  898.000000     898.000000  898.000000    898.000000  ...  \\\n",
       "mean   604.577938    0.981840  303845.592428    0.736267      2.131102  ...   \n",
       "std    119.593888    0.018157  108815.656947    0.053745     17.820778  ...   \n",
       "min     50.298400    0.836600    2257.000000    0.512300      1.065300  ...   \n",
       "25%    513.317075    0.978825  210022.750000    0.705875      1.373725  ...   \n",
       "50%    638.140950    0.987300  327207.000000    0.746950      1.524150  ...   \n",
       "75%    697.930525    0.991800  388804.000000    0.775850      1.674750  ...   \n",
       "max    833.827900    0.997400  552598.000000    0.856200    535.525700  ...   \n",
       "\n",
       "           SkewRB  KurtosisRR  KurtosisRG  KurtosisRB     EntropyRR   \n",
       "count  898.000000  898.000000  898.000000  898.000000  8.980000e+02  \\\n",
       "mean     0.250518    4.247845    5.110894    3.780928 -3.185021e+10   \n",
       "std      0.632918    2.892357    3.745463    2.049831  2.037241e+10   \n",
       "min     -1.029100    1.708200    1.607600    1.767200 -1.091224e+11   \n",
       "25%     -0.196950    2.536625    2.508850    2.577275 -4.429444e+10   \n",
       "50%      0.135550    3.069800    3.127800    3.080700 -2.826156e+10   \n",
       "75%      0.593950    4.449850    7.320400    4.283125 -1.460482e+10   \n",
       "max      3.092300   26.171100   26.736700   32.249500 -1.627316e+08   \n",
       "\n",
       "          EntropyRG     EntropyRB  ALLdaub4RR  ALLdaub4RG  ALLdaub4RB  \n",
       "count  8.980000e+02  8.980000e+02  898.000000  898.000000  898.000000  \n",
       "mean  -2.901860e+10 -2.771876e+10   50.082888   48.805681   48.098393  \n",
       "std    1.712952e+10  1.484137e+10   16.063125   14.125911   10.813862  \n",
       "min   -9.261697e+10 -8.747177e+10   15.191100   20.524700   22.130000  \n",
       "25%   -3.894638e+10 -3.564534e+10   38.224425   38.654525   39.250725  \n",
       "50%   -2.620990e+10 -2.392928e+10   53.841300   50.337800   49.614100  \n",
       "75%   -1.433105e+10 -1.660367e+10   63.063350   59.573600   56.666675  \n",
       "max   -5.627727e+08 -4.370435e+08   79.828900   83.064900   74.104600  \n",
       "\n",
       "[8 rows x 34 columns]"
      ]
     },
     "execution_count": 8,
     "metadata": {},
     "output_type": "execute_result"
    }
   ],
   "source": [
    "df.describe()"
   ]
  },
  {
   "cell_type": "code",
   "execution_count": null,
   "metadata": {},
   "outputs": [
    {
     "data": {
      "text/plain": [
       "Class\n",
       "DOKOL     204\n",
       "SAFAVI    199\n",
       "ROTANA    166\n",
       "DEGLET     98\n",
       "SOGAY      94\n",
       "IRAQI      72\n",
       "BERHI      65\n",
       "Name: count, dtype: int64"
      ]
     },
     "execution_count": 9,
     "metadata": {},
     "output_type": "execute_result"
    }
   ],
   "source": [
    "df.Class.value_counts()"
   ]
  },
  {
   "attachments": {},
   "cell_type": "markdown",
   "metadata": {},
   "source": [
    "# Data Visualization\n",
    "Before we proceed with any machine learning, let's visualize the data to get a sense of the class distribution.\n"
   ]
  },
  {
   "cell_type": "code",
   "execution_count": null,
   "metadata": {},
   "outputs": [
    {
     "data": {
      "image/png": "[encoded data removed]",
      "text/plain": [
       "<Figure size 1000x500 with 1 Axes>"
      ]
     },
     "metadata": {},
     "output_type": "display_data"
    }
   ],
   "source": [
    "#Data Visualization\n",
    "#Let's first have a look at the Class Distribution.\n",
    "# Class Distribution\n",
    "plt.figure(figsize=(10, 5))\n",
    "sns.countplot(x='Class', data=df)\n",
    "plt.show()\n",
    "    "
   ]
  },
  {
   "attachments": {},
   "cell_type": "markdown",
   "metadata": {},
   "source": [
    "# Data Preprocessing\n",
    "We will handle any missing values and encode the categorical variables. Also, the features need to be scaled for some of the models to perform well.\n"
   ]
  },
  {
   "cell_type": "code",
   "execution_count": null,
   "metadata": {},
   "outputs": [
    {
     "data": {
      "text/plain": [
       "False"
      ]
     },
     "execution_count": 11,
     "metadata": {},
     "output_type": "execute_result"
    }
   ],
   "source": [
    "# Missing Values\n",
    "# print true if there is any missing value\n",
    "df.isnull().values.any()\n"
   ]
  },
  {
   "cell_type": "code",
   "execution_count": null,
   "metadata": {},
   "outputs": [
    {
     "data": {
      "text/plain": [
       "Class\n",
       "2    204\n",
       "5    199\n",
       "4    166\n",
       "1     98\n",
       "6     94\n",
       "3     72\n",
       "0     65\n",
       "Name: count, dtype: int64"
      ]
     },
     "execution_count": 12,
     "metadata": {},
     "output_type": "execute_result"
    }
   ],
   "source": [
    "# class encoding\n",
    "\n",
    "class_le = LabelEncoder()\n",
    "df['Class'] = class_le.fit_transform(df['Class'].values)\n",
    "\n",
    "df.Class.value_counts()"
   ]
  },
  {
   "cell_type": "code",
   "execution_count": null,
   "metadata": {},
   "outputs": [],
   "source": [
    "# data split\n",
    "X = df.drop('Class', axis=1)\n",
    "Y = df['Class']"
   ]
  },
  {
   "cell_type": "code",
   "execution_count": null,
   "metadata": {},
   "outputs": [],
   "source": [
    "# scaling\n",
    "scaler = MinMaxScaler()\n",
    "X = scaler.fit_transform(X)"
   ]
  },
  {
   "attachments": {},
   "cell_type": "markdown",
   "metadata": {},
   "source": [
    "# Splitting the Data\n",
    "The data is split into training and testing sets. This allows us to evaluate how our model performs on unseen data.\n"
   ]
  },
  {
   "cell_type": "code",
   "execution_count": null,
   "metadata": {},
   "outputs": [
    {
     "name": "stdout",
     "output_type": "stream",
     "text": [
      "x_train shape:  (718, 34)\n",
      "x_test shape:  (180, 34)\n",
      "y_train shape:  (718,)\n",
      "y_test shape:  (180,)\n"
     ]
    }
   ],
   "source": [
    "\n",
    "\n",
    "x_train, x_test, y_train, y_test = train_test_split(X, Y, test_size=0.2, random_state=42)\n",
    "\n",
    "# print shapes\n",
    "print(\"x_train shape: \", x_train.shape)\n",
    "print(\"x_test shape: \", x_test.shape)\n",
    "print(\"y_train shape: \", y_train.shape)\n",
    "print(\"y_test shape: \", y_test.shape)\n"
   ]
  },
  {
   "attachments": {},
   "cell_type": "markdown",
   "metadata": {},
   "source": [
    "# Training Models\n",
    "We will train several models and evaluate their performance. We start with Support Vector Machine (SVM), followed by Logistic Regression, Decision Tree, and finally, a Neural Network.\n"
   ]
  },
  {
   "attachments": {},
   "cell_type": "markdown",
   "metadata": {},
   "source": [
    "## Support Vector Machine (SVM)"
   ]
  },
  {
   "cell_type": "code",
   "execution_count": null,
   "metadata": {},
   "outputs": [
    {
     "name": "stdout",
     "output_type": "stream",
     "text": [
      "              precision    recall  f1-score   support\n",
      "\n",
      "           0       1.00      0.83      0.91        12\n",
      "           1       0.81      0.85      0.83        20\n",
      "           2       0.98      0.96      0.97        50\n",
      "           3       0.83      1.00      0.91        10\n",
      "           4       0.97      0.97      0.97        35\n",
      "           5       1.00      1.00      1.00        33\n",
      "           6       0.90      0.90      0.90        20\n",
      "\n",
      "    accuracy                           0.94       180\n",
      "   macro avg       0.93      0.93      0.93       180\n",
      "weighted avg       0.95      0.94      0.94       180\n",
      "\n"
     ]
    },
    {
     "data": {
      "image/png": "[encoded data removed]",
      "text/plain": [
       "<Figure size 1000x500 with 2 Axes>"
      ]
     },
     "metadata": {},
     "output_type": "display_data"
    }
   ],
   "source": [
    "# models\n",
    "\n",
    "# SVM\n",
    "\n",
    "svm_clf = SVC()\n",
    "svm_clf.fit(x_train, y_train)\n",
    "\n",
    "# predictions\n",
    "y_pred = svm_clf.predict(x_test)\n",
    "\n",
    "# measures\n",
    "print(classification_report(y_test, y_pred))\n",
    "\n",
    "# confusion matrix\n",
    "cm = confusion_matrix(y_test, y_pred)\n",
    "plt.figure(figsize=(10, 5))\n",
    "sns.heatmap(cm, annot=True)\n",
    "plt.show()\n"
   ]
  },
  {
   "attachments": {},
   "cell_type": "markdown",
   "metadata": {},
   "source": [
    "## Logistic Regression"
   ]
  },
  {
   "cell_type": "code",
   "execution_count": null,
   "metadata": {},
   "outputs": [
    {
     "name": "stdout",
     "output_type": "stream",
     "text": [
      "              precision    recall  f1-score   support\n",
      "\n",
      "           0       1.00      0.83      0.91        12\n",
      "           1       0.88      0.70      0.78        20\n",
      "           2       0.93      1.00      0.96        50\n",
      "           3       0.82      0.90      0.86        10\n",
      "           4       0.92      0.94      0.93        35\n",
      "           5       1.00      1.00      1.00        33\n",
      "           6       0.85      0.85      0.85        20\n",
      "\n",
      "    accuracy                           0.92       180\n",
      "   macro avg       0.91      0.89      0.90       180\n",
      "weighted avg       0.92      0.92      0.92       180\n",
      "\n"
     ]
    },
    {
     "data": {
      "image/png": "[encoded data removed]",
      "text/plain": [
       "<Figure size 1000x500 with 2 Axes>"
      ]
     },
     "metadata": {},
     "output_type": "display_data"
    }
   ],
   "source": [
    "# logistic regression\n",
    "\n",
    "# number of iterations\n",
    "max_iter = 300\n",
    "log_reg = LogisticRegression(max_iter=max_iter)  \n",
    "log_reg.fit(x_train, y_train)\n",
    "\n",
    "# predictions\n",
    "y_pred = log_reg.predict(x_test)\n",
    "\n",
    "# measures\n",
    "print(classification_report(y_test, y_pred))\n",
    "\n",
    "# confusion matrix\n",
    "cm = confusion_matrix(y_test, y_pred)\n",
    "plt.figure(figsize=(10, 5))\n",
    "\n",
    "sns.heatmap(cm, annot=True)\n",
    "plt.show()"
   ]
  },
  {
   "attachments": {},
   "cell_type": "markdown",
   "metadata": {},
   "source": [
    "## Decision tree"
   ]
  },
  {
   "cell_type": "code",
   "execution_count": null,
   "metadata": {},
   "outputs": [
    {
     "name": "stdout",
     "output_type": "stream",
     "text": [
      "              precision    recall  f1-score   support\n",
      "\n",
      "           0       0.67      0.67      0.67        12\n",
      "           1       0.65      0.85      0.74        20\n",
      "           2       0.98      0.92      0.95        50\n",
      "           3       0.58      0.70      0.64        10\n",
      "           4       0.94      0.83      0.88        35\n",
      "           5       0.97      0.97      0.97        33\n",
      "           6       0.84      0.80      0.82        20\n",
      "\n",
      "    accuracy                           0.86       180\n",
      "   macro avg       0.80      0.82      0.81       180\n",
      "weighted avg       0.87      0.86      0.87       180\n",
      "\n"
     ]
    },
    {
     "data": {
      "text/plain": [
       "<Axes: >"
      ]
     },
     "execution_count": 18,
     "metadata": {},
     "output_type": "execute_result"
    },
    {
     "data": {
      "image/png": "[encoded data removed]",
      "text/plain": [
       "<Figure size 1000x500 with 2 Axes>"
      ]
     },
     "metadata": {},
     "output_type": "display_data"
    }
   ],
   "source": [
    "# decision tree\n",
    "\n",
    "dt_clf = DecisionTreeClassifier()\n",
    "\n",
    "dt_clf.fit(x_train, y_train)\n",
    "\n",
    "# predictions\n",
    "y_pred = dt_clf.predict(x_test)\n",
    "\n",
    "\n",
    "\n",
    "\n",
    "# measures\n",
    "print(classification_report(y_test, y_pred))\n",
    "\n",
    "# confusion matrix\n",
    "cm = confusion_matrix(y_test, y_pred)\n",
    "plt.figure(figsize=(10, 5))\n",
    "\n",
    "sns.heatmap(cm, annot=True)"
   ]
  },
  {
   "attachments": {},
   "cell_type": "markdown",
   "metadata": {},
   "source": [
    "# Feature Importance\n",
    "Let's look at the most important features according to the decision tree model.\n"
   ]
  },
  {
   "cell_type": "code",
   "execution_count": null,
   "metadata": {},
   "outputs": [
    {
     "data": {
      "image/png": "[encoded data removed]",
      "text/plain": [
       "<Figure size 640x480 with 1 Axes>"
      ]
     },
     "metadata": {},
     "output_type": "display_data"
    },
    {
     "name": "stdout",
     "output_type": "stream",
     "text": [
      "The 3 most important features are: \n",
      "MeanRR : 0.23126776008044728\n",
      "CONVEX_AREA : 0.19384447579787628\n",
      "EntropyRR : 0.11108835137129457\n"
     ]
    }
   ],
   "source": [
    "# Feature Importance for Decision Tree\n",
    "importance = dt_clf.feature_importances_\n",
    "# plot feature importance\n",
    "plt.bar([x for x in range(len(importance))], importance)\n",
    "plt.show()\n",
    "\n",
    "# print the 3 most important features\n",
    "print(\"The 3 most important features are: \")\n",
    "for i in range(3):\n",
    "    print(df.columns[np.argmax(importance)], \":\", np.max(importance))\n",
    "    importance = np.delete(importance, np.argmax(importance))\n",
    "\n",
    "    \n"
   ]
  },
  {
   "attachments": {},
   "cell_type": "markdown",
   "metadata": {},
   "source": [
    "## Neural Network"
   ]
  },
  {
   "cell_type": "code",
   "execution_count": null,
   "metadata": {},
   "outputs": [
    {
     "name": "stdout",
     "output_type": "stream",
     "text": [
      "Epoch 1/100\n",
      "23/23 [==============================] - 1s 16ms/step - loss: 1.8575 - accuracy: 0.2159 - val_loss: 1.7224 - val_accuracy: 0.2889\n",
      "Epoch 2/100\n",
      "23/23 [==============================] - 0s 4ms/step - loss: 1.7172 - accuracy: 0.3830 - val_loss: 1.5974 - val_accuracy: 0.4722\n",
      "Epoch 3/100\n",
      "23/23 [==============================] - 0s 4ms/step - loss: 1.5951 - accuracy: 0.4958 - val_loss: 1.4879 - val_accuracy: 0.5500\n",
      "Epoch 4/100\n",
      "23/23 [==============================] - 0s 7ms/step - loss: 1.4739 - accuracy: 0.5641 - val_loss: 1.3697 - val_accuracy: 0.6111\n",
      "Epoch 5/100\n",
      "23/23 [==============================] - 0s 4ms/step - loss: 1.3585 - accuracy: 0.6031 - val_loss: 1.2641 - val_accuracy: 0.6167\n",
      "Epoch 6/100\n",
      "23/23 [==============================] - 0s 4ms/step - loss: 1.2556 - accuracy: 0.6142 - val_loss: 1.1702 - val_accuracy: 0.6556\n",
      "Epoch 7/100\n",
      "23/23 [==============================] - 0s 4ms/step - loss: 1.1621 - accuracy: 0.6226 - val_loss: 1.0903 - val_accuracy: 0.6444\n",
      "Epoch 8/100\n",
      "23/23 [==============================] - 0s 6ms/step - loss: 1.0837 - accuracy: 0.6240 - val_loss: 1.0116 - val_accuracy: 0.6556\n",
      "Epoch 9/100\n",
      "23/23 [==============================] - 0s 4ms/step - loss: 1.0181 - accuracy: 0.6323 - val_loss: 0.9462 - val_accuracy: 0.6556\n",
      "Epoch 10/100\n",
      "23/23 [==============================] - 0s 6ms/step - loss: 0.9644 - accuracy: 0.6365 - val_loss: 0.9015 - val_accuracy: 0.6556\n",
      "Epoch 11/100\n",
      "23/23 [==============================] - 0s 5ms/step - loss: 0.9133 - accuracy: 0.6407 - val_loss: 0.8487 - val_accuracy: 0.6611\n",
      "Epoch 12/100\n",
      "23/23 [==============================] - 0s 4ms/step - loss: 0.8659 - accuracy: 0.6699 - val_loss: 0.8070 - val_accuracy: 0.6944\n",
      "Epoch 13/100\n",
      "23/23 [==============================] - 0s 5ms/step - loss: 0.8240 - accuracy: 0.6825 - val_loss: 0.7567 - val_accuracy: 0.6944\n",
      "Epoch 14/100\n",
      "23/23 [==============================] - 0s 5ms/step - loss: 0.7849 - accuracy: 0.6838 - val_loss: 0.7342 - val_accuracy: 0.7556\n",
      "Epoch 15/100\n",
      "23/23 [==============================] - 0s 4ms/step - loss: 0.7466 - accuracy: 0.7354 - val_loss: 0.6839 - val_accuracy: 0.7333\n",
      "Epoch 16/100\n",
      "23/23 [==============================] - 0s 4ms/step - loss: 0.7155 - accuracy: 0.7465 - val_loss: 0.6556 - val_accuracy: 0.8000\n",
      "Epoch 17/100\n",
      "23/23 [==============================] - 0s 4ms/step - loss: 0.6857 - accuracy: 0.7591 - val_loss: 0.6160 - val_accuracy: 0.8056\n",
      "Epoch 18/100\n",
      "23/23 [==============================] - 0s 5ms/step - loss: 0.6470 - accuracy: 0.7827 - val_loss: 0.5954 - val_accuracy: 0.8500\n",
      "Epoch 19/100\n",
      "23/23 [==============================] - 0s 6ms/step - loss: 0.6181 - accuracy: 0.7967 - val_loss: 0.5784 - val_accuracy: 0.8778\n",
      "Epoch 20/100\n",
      "23/23 [==============================] - 0s 4ms/step - loss: 0.5969 - accuracy: 0.8064 - val_loss: 0.5350 - val_accuracy: 0.8278\n",
      "Epoch 21/100\n",
      "23/23 [==============================] - 0s 3ms/step - loss: 0.5732 - accuracy: 0.7994 - val_loss: 0.5466 - val_accuracy: 0.8389\n",
      "Epoch 22/100\n",
      "23/23 [==============================] - 0s 4ms/step - loss: 0.5480 - accuracy: 0.8245 - val_loss: 0.4970 - val_accuracy: 0.8611\n",
      "Epoch 23/100\n",
      "23/23 [==============================] - 0s 4ms/step - loss: 0.5299 - accuracy: 0.8189 - val_loss: 0.4854 - val_accuracy: 0.8778\n",
      "Epoch 24/100\n",
      "23/23 [==============================] - 0s 3ms/step - loss: 0.5124 - accuracy: 0.8273 - val_loss: 0.4727 - val_accuracy: 0.8833\n",
      "Epoch 25/100\n",
      "23/23 [==============================] - 0s 3ms/step - loss: 0.4964 - accuracy: 0.8315 - val_loss: 0.4460 - val_accuracy: 0.8611\n",
      "Epoch 26/100\n",
      "23/23 [==============================] - 0s 4ms/step - loss: 0.4905 - accuracy: 0.8231 - val_loss: 0.4449 - val_accuracy: 0.8833\n",
      "Epoch 27/100\n",
      "23/23 [==============================] - 0s 4ms/step - loss: 0.4670 - accuracy: 0.8412 - val_loss: 0.4320 - val_accuracy: 0.8833\n",
      "Epoch 28/100\n",
      "23/23 [==============================] - 0s 4ms/step - loss: 0.4608 - accuracy: 0.8329 - val_loss: 0.4230 - val_accuracy: 0.8833\n",
      "Epoch 29/100\n",
      "23/23 [==============================] - 0s 4ms/step - loss: 0.4507 - accuracy: 0.8370 - val_loss: 0.4150 - val_accuracy: 0.8667\n",
      "Epoch 30/100\n",
      "23/23 [==============================] - 0s 4ms/step - loss: 0.4373 - accuracy: 0.8454 - val_loss: 0.3950 - val_accuracy: 0.8944\n",
      "Epoch 31/100\n",
      "23/23 [==============================] - 0s 4ms/step - loss: 0.4256 - accuracy: 0.8524 - val_loss: 0.3925 - val_accuracy: 0.8667\n",
      "Epoch 32/100\n",
      "23/23 [==============================] - 0s 4ms/step - loss: 0.4250 - accuracy: 0.8426 - val_loss: 0.3807 - val_accuracy: 0.8778\n",
      "Epoch 33/100\n",
      "23/23 [==============================] - 0s 7ms/step - loss: 0.4151 - accuracy: 0.8496 - val_loss: 0.3757 - val_accuracy: 0.8944\n",
      "Epoch 34/100\n",
      "23/23 [==============================] - 0s 4ms/step - loss: 0.4089 - accuracy: 0.8510 - val_loss: 0.3621 - val_accuracy: 0.9056\n",
      "Epoch 35/100\n",
      "23/23 [==============================] - 0s 4ms/step - loss: 0.3987 - accuracy: 0.8621 - val_loss: 0.3524 - val_accuracy: 0.9000\n",
      "Epoch 36/100\n",
      "23/23 [==============================] - 0s 4ms/step - loss: 0.3943 - accuracy: 0.8565 - val_loss: 0.3656 - val_accuracy: 0.8778\n",
      "Epoch 37/100\n",
      "23/23 [==============================] - 0s 4ms/step - loss: 0.3867 - accuracy: 0.8496 - val_loss: 0.3432 - val_accuracy: 0.8889\n",
      "Epoch 38/100\n",
      "23/23 [==============================] - 0s 5ms/step - loss: 0.3817 - accuracy: 0.8635 - val_loss: 0.3331 - val_accuracy: 0.9000\n",
      "Epoch 39/100\n",
      "23/23 [==============================] - 0s 4ms/step - loss: 0.3769 - accuracy: 0.8524 - val_loss: 0.3465 - val_accuracy: 0.8833\n",
      "Epoch 40/100\n",
      "23/23 [==============================] - 0s 3ms/step - loss: 0.3764 - accuracy: 0.8649 - val_loss: 0.3265 - val_accuracy: 0.9000\n",
      "Epoch 41/100\n",
      "23/23 [==============================] - 0s 4ms/step - loss: 0.3691 - accuracy: 0.8621 - val_loss: 0.3224 - val_accuracy: 0.8889\n",
      "Epoch 42/100\n",
      "23/23 [==============================] - 0s 4ms/step - loss: 0.3728 - accuracy: 0.8607 - val_loss: 0.3188 - val_accuracy: 0.9056\n",
      "Epoch 43/100\n",
      "23/23 [==============================] - 0s 3ms/step - loss: 0.3586 - accuracy: 0.8663 - val_loss: 0.3415 - val_accuracy: 0.8944\n",
      "Epoch 44/100\n",
      "23/23 [==============================] - 0s 4ms/step - loss: 0.3604 - accuracy: 0.8649 - val_loss: 0.3042 - val_accuracy: 0.9111\n",
      "Epoch 45/100\n",
      "23/23 [==============================] - 0s 4ms/step - loss: 0.3510 - accuracy: 0.8663 - val_loss: 0.3088 - val_accuracy: 0.9111\n",
      "Epoch 46/100\n",
      "23/23 [==============================] - 0s 3ms/step - loss: 0.3511 - accuracy: 0.8593 - val_loss: 0.3232 - val_accuracy: 0.9111\n",
      "Epoch 47/100\n",
      "23/23 [==============================] - 0s 4ms/step - loss: 0.3482 - accuracy: 0.8747 - val_loss: 0.3019 - val_accuracy: 0.9222\n",
      "Epoch 48/100\n",
      "23/23 [==============================] - 0s 4ms/step - loss: 0.3424 - accuracy: 0.8733 - val_loss: 0.3141 - val_accuracy: 0.8944\n",
      "Epoch 49/100\n",
      "23/23 [==============================] - 0s 4ms/step - loss: 0.3405 - accuracy: 0.8677 - val_loss: 0.3062 - val_accuracy: 0.9000\n",
      "Epoch 50/100\n",
      "23/23 [==============================] - 0s 4ms/step - loss: 0.3418 - accuracy: 0.8733 - val_loss: 0.3151 - val_accuracy: 0.9222\n",
      "Epoch 51/100\n",
      "23/23 [==============================] - 0s 4ms/step - loss: 0.3309 - accuracy: 0.8774 - val_loss: 0.2844 - val_accuracy: 0.9056\n",
      "Epoch 52/100\n",
      "23/23 [==============================] - 0s 4ms/step - loss: 0.3391 - accuracy: 0.8733 - val_loss: 0.3026 - val_accuracy: 0.9167\n",
      "Epoch 53/100\n",
      "23/23 [==============================] - 0s 5ms/step - loss: 0.3362 - accuracy: 0.8733 - val_loss: 0.3101 - val_accuracy: 0.9278\n",
      "Epoch 54/100\n",
      "23/23 [==============================] - 0s 5ms/step - loss: 0.3289 - accuracy: 0.8816 - val_loss: 0.2783 - val_accuracy: 0.9167\n",
      "Epoch 55/100\n",
      "23/23 [==============================] - 0s 4ms/step - loss: 0.3240 - accuracy: 0.8747 - val_loss: 0.2835 - val_accuracy: 0.9444\n",
      "Epoch 56/100\n",
      "23/23 [==============================] - 0s 4ms/step - loss: 0.3183 - accuracy: 0.8816 - val_loss: 0.2949 - val_accuracy: 0.9278\n",
      "Epoch 57/100\n",
      "23/23 [==============================] - 0s 4ms/step - loss: 0.3313 - accuracy: 0.8705 - val_loss: 0.2775 - val_accuracy: 0.9167\n",
      "Epoch 58/100\n",
      "23/23 [==============================] - 0s 4ms/step - loss: 0.3217 - accuracy: 0.8802 - val_loss: 0.2595 - val_accuracy: 0.9222\n",
      "Epoch 59/100\n",
      "23/23 [==============================] - 0s 4ms/step - loss: 0.3262 - accuracy: 0.8691 - val_loss: 0.2761 - val_accuracy: 0.9222\n",
      "Epoch 60/100\n",
      "23/23 [==============================] - 0s 4ms/step - loss: 0.3171 - accuracy: 0.8802 - val_loss: 0.2641 - val_accuracy: 0.9389\n",
      "Epoch 61/100\n",
      "23/23 [==============================] - 0s 4ms/step - loss: 0.3118 - accuracy: 0.8900 - val_loss: 0.2573 - val_accuracy: 0.9222\n",
      "Epoch 62/100\n",
      "23/23 [==============================] - 0s 4ms/step - loss: 0.3114 - accuracy: 0.8858 - val_loss: 0.2668 - val_accuracy: 0.9444\n",
      "Epoch 63/100\n",
      "23/23 [==============================] - 0s 4ms/step - loss: 0.3042 - accuracy: 0.8830 - val_loss: 0.2625 - val_accuracy: 0.9444\n",
      "Epoch 64/100\n",
      "23/23 [==============================] - 0s 4ms/step - loss: 0.3064 - accuracy: 0.8816 - val_loss: 0.2565 - val_accuracy: 0.9389\n",
      "Epoch 65/100\n",
      "23/23 [==============================] - 0s 4ms/step - loss: 0.3039 - accuracy: 0.8774 - val_loss: 0.2603 - val_accuracy: 0.9333\n",
      "Epoch 66/100\n",
      "23/23 [==============================] - 0s 4ms/step - loss: 0.2996 - accuracy: 0.8914 - val_loss: 0.2425 - val_accuracy: 0.9389\n",
      "Epoch 67/100\n",
      "23/23 [==============================] - 0s 4ms/step - loss: 0.2972 - accuracy: 0.8886 - val_loss: 0.2696 - val_accuracy: 0.9389\n",
      "Epoch 68/100\n",
      "23/23 [==============================] - 0s 4ms/step - loss: 0.3020 - accuracy: 0.8886 - val_loss: 0.2492 - val_accuracy: 0.9333\n",
      "Epoch 69/100\n",
      "23/23 [==============================] - 0s 4ms/step - loss: 0.3047 - accuracy: 0.8928 - val_loss: 0.2359 - val_accuracy: 0.9389\n",
      "Epoch 70/100\n",
      "23/23 [==============================] - 0s 5ms/step - loss: 0.2934 - accuracy: 0.8872 - val_loss: 0.2523 - val_accuracy: 0.9500\n",
      "Epoch 71/100\n",
      "23/23 [==============================] - 0s 4ms/step - loss: 0.2930 - accuracy: 0.8886 - val_loss: 0.2475 - val_accuracy: 0.9389\n",
      "Epoch 72/100\n",
      "23/23 [==============================] - 0s 4ms/step - loss: 0.2908 - accuracy: 0.8886 - val_loss: 0.2426 - val_accuracy: 0.9444\n",
      "Epoch 73/100\n",
      "23/23 [==============================] - 0s 4ms/step - loss: 0.2865 - accuracy: 0.8942 - val_loss: 0.2441 - val_accuracy: 0.9333\n",
      "Epoch 74/100\n",
      "23/23 [==============================] - 0s 4ms/step - loss: 0.2841 - accuracy: 0.8886 - val_loss: 0.2510 - val_accuracy: 0.9389\n",
      "Epoch 75/100\n",
      "23/23 [==============================] - 0s 3ms/step - loss: 0.2890 - accuracy: 0.8955 - val_loss: 0.2452 - val_accuracy: 0.9500\n",
      "Epoch 76/100\n",
      "23/23 [==============================] - 0s 4ms/step - loss: 0.2862 - accuracy: 0.8983 - val_loss: 0.2672 - val_accuracy: 0.9278\n",
      "Epoch 77/100\n",
      "23/23 [==============================] - 0s 4ms/step - loss: 0.2938 - accuracy: 0.8914 - val_loss: 0.2384 - val_accuracy: 0.9333\n",
      "Epoch 78/100\n",
      "23/23 [==============================] - 0s 5ms/step - loss: 0.2825 - accuracy: 0.8955 - val_loss: 0.2232 - val_accuracy: 0.9444\n",
      "Epoch 79/100\n",
      "23/23 [==============================] - 0s 4ms/step - loss: 0.2864 - accuracy: 0.8886 - val_loss: 0.2365 - val_accuracy: 0.9500\n",
      "Epoch 80/100\n",
      "23/23 [==============================] - 0s 3ms/step - loss: 0.2856 - accuracy: 0.8830 - val_loss: 0.2516 - val_accuracy: 0.9389\n",
      "Epoch 81/100\n",
      "23/23 [==============================] - 0s 4ms/step - loss: 0.2795 - accuracy: 0.9025 - val_loss: 0.2197 - val_accuracy: 0.9444\n",
      "Epoch 82/100\n",
      "23/23 [==============================] - 0s 4ms/step - loss: 0.2759 - accuracy: 0.8969 - val_loss: 0.2270 - val_accuracy: 0.9333\n",
      "Epoch 83/100\n",
      "23/23 [==============================] - 0s 4ms/step - loss: 0.2742 - accuracy: 0.9011 - val_loss: 0.2198 - val_accuracy: 0.9444\n",
      "Epoch 84/100\n",
      "23/23 [==============================] - 0s 4ms/step - loss: 0.2721 - accuracy: 0.8969 - val_loss: 0.2385 - val_accuracy: 0.9333\n",
      "Epoch 85/100\n",
      "23/23 [==============================] - 0s 4ms/step - loss: 0.2803 - accuracy: 0.8928 - val_loss: 0.2134 - val_accuracy: 0.9500\n",
      "Epoch 86/100\n",
      "23/23 [==============================] - 0s 4ms/step - loss: 0.2790 - accuracy: 0.8914 - val_loss: 0.2215 - val_accuracy: 0.9333\n",
      "Epoch 87/100\n",
      "23/23 [==============================] - 0s 4ms/step - loss: 0.2741 - accuracy: 0.8969 - val_loss: 0.2321 - val_accuracy: 0.9278\n",
      "Epoch 88/100\n",
      "23/23 [==============================] - 0s 4ms/step - loss: 0.2733 - accuracy: 0.9025 - val_loss: 0.2167 - val_accuracy: 0.9500\n",
      "Epoch 89/100\n",
      "23/23 [==============================] - 0s 3ms/step - loss: 0.2690 - accuracy: 0.8997 - val_loss: 0.2296 - val_accuracy: 0.9500\n",
      "Epoch 90/100\n",
      "23/23 [==============================] - 0s 3ms/step - loss: 0.2685 - accuracy: 0.8969 - val_loss: 0.2114 - val_accuracy: 0.9444\n",
      "Epoch 91/100\n",
      "23/23 [==============================] - 0s 3ms/step - loss: 0.2626 - accuracy: 0.8983 - val_loss: 0.2121 - val_accuracy: 0.9556\n",
      "Epoch 92/100\n",
      "23/23 [==============================] - 0s 3ms/step - loss: 0.2597 - accuracy: 0.9053 - val_loss: 0.2090 - val_accuracy: 0.9500\n",
      "Epoch 93/100\n",
      "23/23 [==============================] - 0s 4ms/step - loss: 0.2578 - accuracy: 0.9067 - val_loss: 0.2121 - val_accuracy: 0.9500\n",
      "Epoch 94/100\n",
      "23/23 [==============================] - 0s 3ms/step - loss: 0.2606 - accuracy: 0.9053 - val_loss: 0.2224 - val_accuracy: 0.9444\n",
      "Epoch 95/100\n",
      "23/23 [==============================] - 0s 6ms/step - loss: 0.2659 - accuracy: 0.8983 - val_loss: 0.2168 - val_accuracy: 0.9611\n",
      "Epoch 96/100\n",
      "23/23 [==============================] - 0s 4ms/step - loss: 0.2589 - accuracy: 0.9025 - val_loss: 0.2134 - val_accuracy: 0.9333\n",
      "Epoch 97/100\n",
      "23/23 [==============================] - 0s 5ms/step - loss: 0.2577 - accuracy: 0.9039 - val_loss: 0.2067 - val_accuracy: 0.9333\n",
      "Epoch 98/100\n",
      "23/23 [==============================] - 0s 3ms/step - loss: 0.2568 - accuracy: 0.9011 - val_loss: 0.2041 - val_accuracy: 0.9500\n",
      "Epoch 99/100\n",
      "23/23 [==============================] - 0s 4ms/step - loss: 0.2518 - accuracy: 0.9067 - val_loss: 0.2132 - val_accuracy: 0.9389\n",
      "Epoch 100/100\n",
      "23/23 [==============================] - 0s 3ms/step - loss: 0.2552 - accuracy: 0.9039 - val_loss: 0.2056 - val_accuracy: 0.9389\n"
     ]
    }
   ],
   "source": [
    "# neural network 1\n",
    "\n",
    "model = Sequential()\n",
    "model.add(Dense(34, input_dim=34, activation='relu'))\n",
    "model.add(Dense(16, activation='relu'))\n",
    "model.add(Dense(7, activation='softmax'))\n",
    "# we have 7 calsses so we need to use softmax\n",
    "model.compile(loss='sparse_categorical_crossentropy', optimizer='adam', metrics=['accuracy'])\n",
    "\n",
    "history = model.fit(x_train, y_train, epochs=100, batch_size=32, validation_data=(x_test, y_test))"
   ]
  },
  {
   "cell_type": "code",
   "execution_count": null,
   "metadata": {},
   "outputs": [
    {
     "name": "stdout",
     "output_type": "stream",
     "text": [
      "6/6 [==============================] - 0s 1ms/step\n",
      "              precision    recall  f1-score   support\n",
      "\n",
      "           0       0.86      1.00      0.92        12\n",
      "           1       0.78      0.90      0.84        20\n",
      "           2       1.00      0.94      0.97        50\n",
      "           3       1.00      0.80      0.89        10\n",
      "           4       1.00      0.94      0.97        35\n",
      "           5       1.00      1.00      1.00        33\n",
      "           6       0.82      0.90      0.86        20\n",
      "\n",
      "    accuracy                           0.94       180\n",
      "   macro avg       0.92      0.93      0.92       180\n",
      "weighted avg       0.95      0.94      0.94       180\n",
      "\n"
     ]
    },
    {
     "data": {
      "image/png": "[encoded data removed]",
      "text/plain": [
       "<Figure size 1000x500 with 2 Axes>"
      ]
     },
     "metadata": {},
     "output_type": "display_data"
    }
   ],
   "source": [
    "\n",
    "\n",
    "# predictions\n",
    "y_pred = model.predict(x_test)\n",
    "y_pred = np.argmax(y_pred, axis=1)\n",
    "\n",
    "# # measures\n",
    "print(classification_report(y_test, y_pred))\n",
    "\n",
    "# # confusion matrix\n",
    "cm = confusion_matrix(y_test, y_pred)\n",
    "plt.figure(figsize=(10, 5))\n",
    "\n",
    "sns.heatmap(cm, annot=True)\n",
    "plt.show()"
   ]
  },
  {
   "attachments": {},
   "cell_type": "markdown",
   "metadata": {},
   "source": [
    "### Learning curve"
   ]
  },
  {
   "cell_type": "code",
   "execution_count": null,
   "metadata": {},
   "outputs": [
    {
     "data": {
      "image/png": "[encoded data removed]",
      "text/plain": [
       "<Figure size 1200x600 with 2 Axes>"
      ]
     },
     "metadata": {},
     "output_type": "display_data"
    }
   ],
   "source": [
    "# Plotting the learning curve\n",
    "plt.figure(figsize=(12,6))\n",
    "\n",
    "# Plot training & validation accuracy values\n",
    "plt.subplot(1, 2, 1)\n",
    "plt.plot(history.history['accuracy'])\n",
    "plt.plot(history.history['val_accuracy'])\n",
    "plt.title('Model accuracy')\n",
    "plt.ylabel('Accuracy')\n",
    "plt.xlabel('Epoch')\n",
    "plt.legend(['Train', 'Test'], loc='upper left')\n",
    "\n",
    "# Plot training & validation loss values\n",
    "plt.subplot(1, 2, 2)\n",
    "plt.plot(history.history['loss'])\n",
    "plt.plot(history.history['val_loss'])\n",
    "plt.title('Model loss')\n",
    "plt.ylabel('Loss')\n",
    "plt.xlabel('Epoch')\n",
    "plt.legend(['Train', 'Test'], loc='upper left')\n",
    "\n",
    "plt.show()\n"
   ]
  },
  {
   "attachments": {},
   "cell_type": "markdown",
   "metadata": {},
   "source": [
    "# Model Comparison\n",
    "Now that we have trained multiple models, let's compare their performance side-by-side.\n"
   ]
  },
  {
   "cell_type": "code",
   "execution_count": null,
   "metadata": {},
   "outputs": [
    {
     "name": "stdout",
     "output_type": "stream",
     "text": [
      "                 Model  Train Accuracy  Test Accuracy\n",
      "0                  SVM        0.910864       0.944444\n",
      "1  Logistic Regression        0.892758       0.922222\n",
      "2        Decision Tree        1.000000       0.861111\n",
      "3       Neural Network        0.903900       0.938889\n"
     ]
    },
    {
     "data": {
      "image/png": "[encoded data removed]",
      "text/plain": [
       "<Figure size 1000x500 with 1 Axes>"
      ]
     },
     "metadata": {},
     "output_type": "display_data"
    }
   ],
   "source": [
    "# Create a list to hold each model's results\n",
    "model_results = []\n",
    "\n",
    "# After training and evaluating each model, add its results to the list. For example:\n",
    "model_results.append(['SVM', svm_clf.score(x_train, y_train), svm_clf.score(x_test, y_test)])\n",
    "model_results.append(['Logistic Regression', log_reg.score(x_train, y_train), log_reg.score(x_test, y_test)])\n",
    "model_results.append(['Decision Tree', dt_clf.score(x_train, y_train), dt_clf.score(x_test, y_test)])\n",
    "model_results.append(['Neural Network', history.history['accuracy'][-1], history.history['val_accuracy'][-1]])\n",
    "\n",
    "# Now, create a DataFrame from the results\n",
    "model_comparison_df = pd.DataFrame(model_results, columns=['Model', 'Train Accuracy', 'Test Accuracy'])\n",
    "\n",
    "# Print the DataFrame\n",
    "print(model_comparison_df)\n",
    "\n",
    "# Plot the results and since there scores are similar then we must make the y axis from 0.8 to 1.0\n",
    "\n",
    "plt.figure(figsize=(10, 5))\n",
    "sns.barplot(x='Model', y='Test Accuracy', data=model_comparison_df)\n",
    "plt.ylim(0.8, 1.0)\n",
    "plt.show()\n",
    "\n"
   ]
  },
  {
   "attachments": {},
   "cell_type": "markdown",
   "metadata": {},
   "source": [
    "# Results\n",
    "From the model comparison, it's evident that the Support Vector Machine (SVM) model performed the best on the test set, achieving an accuracy of approximately 94.4%. The Logistic Regression model was the second-best performing model, with a test accuracy of approximately 92.2%. The Neural Network model was a close third, with a test accuracy of 91.1%. Despite the Decision Tree model having 100% accuracy on the training set, it performed less well on the test set with an accuracy of 84.4%. This discrepancy is a classic indication of overfitting, meaning that the Decision Tree model is likely memorizing the training set, which leads to poor generalization to unseen data.\n",
    "\n"
   ]
  }
 ],
 "metadata": {
  "kernelspec": {
   "display_name": "Python 3",
   "language": "python",
   "name": "python3"
  },
  "language_info": {
   "codemirror_mode": {
    "name": "ipython",
    "version": 3
   },
   "file_extension": ".py",
   "mimetype": "text/x-python",
   "name": "python",
   "nbconvert_exporter": "python",
   "pygments_lexer": "ipython3",
   "version": "3.10.5"
  },
  "orig_nbformat": 4
 },
 "nbformat": 4,
 "nbformat_minor": 2
}
